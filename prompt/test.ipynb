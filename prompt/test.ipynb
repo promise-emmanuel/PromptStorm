{
 "cells": [
  {
   "cell_type": "code",
   "execution_count": 1,
   "metadata": {},
   "outputs": [],
   "source": [
    "from openai import OpenAI\n",
    "import dotenv, os"
   ]
  },
  {
   "cell_type": "code",
   "execution_count": 2,
   "metadata": {},
   "outputs": [],
   "source": [
    "dotenv.load_dotenv()\n",
    "client = OpenAI()\n",
    "\n",
    "model = os.environ['MODEL']\n"
   ]
  },
  {
   "cell_type": "code",
   "execution_count": 3,
   "metadata": {},
   "outputs": [],
   "source": [
    "transcript = \"\"\"\n",
    "\n",
    "Meeting Transcript  \n",
    "Date: October 15, 2024  \n",
    "Time: 10:00 AM - 11:00 AM  \n",
    "Attendees: \n",
    "- John Smith (Project Manager)  \n",
    "- Sarah Johnson (Software Engineer)  \n",
    "- Alex Brown (Data Scientist)  \n",
    "- Maria Lopez (Product Designer)  \n",
    "- Michael White (QA Engineer)  \n",
    "\n",
    "John Smith: Good morning, everyone. Let's get started. Today, we are going to discuss the progress on the new feature rollout and review the timelines for the upcoming sprint. Sarah, can you start by giving us an update on the development?\n",
    "\n",
    "Sarah Johnson: Sure, John. The development team has finished coding the core functionalities, and we're now in the testing phase. We encountered a minor issue with the API integration, but we're working on a fix and should be ready by tomorrow. \n",
    "\n",
    "John Smith: That sounds good. Do you anticipate any delays because of this issue?\n",
    "\n",
    "Sarah Johnson: No, it is a straightforward fix. We do not expect it to affect the overall timeline.\n",
    "John Smith: Great. Alex, could you share your findings on the data analysis for the user behavior metrics?\n",
    "Alex Brown: Absolutely. Our analysis showed a significant increase in user engagement after implementing the recent UI changes. The average session duration went up by 15%, and the bounce rate decreased by 8%. We still need to validate these results with more data, but it looks promising.\n",
    "John Smith: Those numbers are encouraging. Maria, are there any design changes based on Alex's findings?\n",
    "Maria Lopez: Yes, we are considering a few adjustments to make the interface more intuitive, especially in the navigation menu. We’ll be doing some A/B testing to confirm which version works best.\n",
    "John Smith: Excellent. Michael, how is the QA testing progressing?\n",
    "Michael White: Testing is going well. We've identified a few bugs in the beta version, mainly related to form validation. The team is already addressing them, and we’re planning to run another round of testing next week to ensure everything is resolved.\n",
    "John Smith: Good to hear. It looks like we are on track. Let us aim to finalize the testing by the end of next week so we can move forward with the release. Any other items we need to cover?\n",
    "Sarah Johnson: Just a quick reminder—we have a code review scheduled for tomorrow at 2 PM. It would be great if everyone could attend.\n",
    "John Smith: Thanks, Sarah. If there are no other updates, we will wrap up here. Great work, everyone. Let us keep up the momentum!\n",
    "\n",
    "Meeting adjourned at 11:00 AM.\n",
    "\"\"\"\n",
    "\n"
   ]
  },
  {
   "cell_type": "markdown",
   "metadata": {},
   "source": [
    "### prompt to extract insights about action items, decisions and follow-up from meeting transcript"
   ]
  },
  {
   "cell_type": "code",
   "execution_count": 4,
   "metadata": {},
   "outputs": [],
   "source": [
    "prompt = f\"\"\"\n",
    "From the provided meeting transcript, identify and summarize key insights related to action items, decisions, and follow-up tasks. Your summary should include:  \n",
    "1. **Tasks Assigned**: Outline any tasks or responsibilities that were assigned, including who is responsible and any specified deadlines.  \n",
    "2. **Decisions Made**: Highlight any decisions reached during the meeting, including their implications.  \n",
    "3. **Follow-Up and Unresolved Issues**: Note any follow-up questions, unresolved issues, or items that require further attention to ensure clarity on next steps and responsibilities.\n",
    "\n",
    "**Context**: The transcript comes from a project status meeting involving a cross-functional team. The goal is to capture the essential elements that guide project progress.\n",
    "\n",
    "**Output Format**: Present the insights in bullet points, grouped under 'Tasks Assigned,' 'Decisions Made,' and 'Follow-Up and Unresolved Issues.'\n",
    "\n",
    "**Success Criteria**: The output should clearly define responsibilities and next steps, allowing the team to understand their roles and any pending concerns.\n",
    "Here is the transcript: {transcript}\n",
    "\"\"\" "
   ]
  },
  {
   "cell_type": "code",
   "execution_count": 5,
   "metadata": {},
   "outputs": [],
   "source": [
    "messages = [{\"role\":\"user\", \"content\":prompt}]\n",
    "\n",
    "completion = client.chat.completions.create(model=model, messages=messages)\n"
   ]
  },
  {
   "cell_type": "code",
   "execution_count": 6,
   "metadata": {},
   "outputs": [
    {
     "name": "stdout",
     "output_type": "stream",
     "text": [
      "**Tasks Assigned:**  \n",
      "- **Sarah Johnson**: Address the minor API integration issue and complete testing by end of the day tomorrow.  \n",
      "- **Maria Lopez**: Conduct A/B testing on the proposed design changes to the interface.  \n",
      "- **Michael White**: Execute another round of QA testing next week to ensure identified bugs are resolved.  \n",
      "- **All Team Members**: Attend the scheduled code review tomorrow at 2 PM.\n",
      "\n",
      "**Decisions Made:**  \n",
      "- The team will proceed with the current timeline as the minor API integration issue should not cause delays.  \n",
      "- A/B testing will be conducted to confirm design changes that aim to improve user navigation based on data analysis insights.  \n",
      "- The goal is to finalize testing by the end of next week to stay on track for the feature rollout.\n",
      "\n",
      "**Follow-Up and Unresolved Issues:**  \n",
      "- A need to validate the data analysis results with additional data before final conclusions can be drawn.  \n",
      "- Confirmation on which design version performs better post A/B testing will need to be revisited in future meetings.  \n",
      "- The outcome of the next round of QA testing and verification of bugs will require follow-up to ensure project readiness for release.\n"
     ]
    }
   ],
   "source": [
    "print(completion.choices[0].message.content)"
   ]
  },
  {
   "cell_type": "markdown",
   "metadata": {},
   "source": [
    "### prompt to extract key topics, summaries and time allocation"
   ]
  },
  {
   "cell_type": "code",
   "execution_count": 8,
   "metadata": {},
   "outputs": [],
   "source": [
    "prompt_2 = f\"\"\"\n",
    " \n",
    "Analyze the provided meeting transcript to extract insights about the key topics discussed, summarize the content of each main topic, and provide an estimate of time allocation for each. Your analysis should include:  \n",
    "1. **Key Topics**: Identify the main topics or agenda items discussed, listing them in the order they appeared.  \n",
    "2. **Summaries**: Provide a brief summary of what was discussed for each topic, highlighting any major points or outcomes.  \n",
    "3. **Time Allocation**: Estimate the amount of time spent discussing each topic, based on the transcript length and conversation flow.\n",
    "\n",
    "**Context**: This transcript is from a team meeting reviewing project updates and strategic planning. The purpose is to gain insights into the meeting's structure and the focus areas.\n",
    "\n",
    "**Output Format**: Present the information in a table with columns for 'Topic,' 'Summary,' and 'Estimated Time Spent.'\n",
    "\n",
    "**Success Criteria**: The output should give a clear overview of how the meeting's time was distributed and highlight the most important discussion points.\"\n",
    "\n",
    "Here is the transcript: {transcript}\n",
    "\"\"\" "
   ]
  },
  {
   "cell_type": "code",
   "execution_count": 10,
   "metadata": {},
   "outputs": [],
   "source": [
    "messages = [{\"role\":\"user\", \"content\":prompt_2}]\n",
    "\n",
    "completion = client.chat.completions.create(model=model, messages=messages)\n"
   ]
  },
  {
   "cell_type": "code",
   "execution_count": 11,
   "metadata": {},
   "outputs": [
    {
     "name": "stdout",
     "output_type": "stream",
     "text": [
      "Here's a table summarizing the key topics discussed during the meeting, along with a brief overview of each topic and an estimated time allocation:\n",
      "\n",
      "| **Topic**                       | **Summary**                                                                                                                                                       | **Estimated Time Spent** |\n",
      "|---------------------------------|-------------------------------------------------------------------------------------------------------------------------------------------------------------------|---------------------------|\n",
      "| Opening and Agenda Overview     | John Smith initiated the meeting, outlining the agenda focused on project updates and upcoming timelines.                                                       | 5 minutes                 |\n",
      "| Development Update              | Sarah Johnson reported that the development team completed the core functionalities and are in the testing phase. A minor API issue was addressed with no delays expected. | 10 minutes                |\n",
      "| Data Analysis Insights          | Alex Brown shared findings from the user behavior metrics analysis, highlighting increased user engagement and promising results after recent UI changes.         | 10 minutes                |\n",
      "| Design Adjustments              | Maria Lopez discussed design adjustments to enhance the interface based on Alex's findings and mentioned upcoming A/B testing for validation.                    | 10 minutes                |\n",
      "| QA Testing Update               | Michael White provided an update on QA testing, mentioning identified bugs and plans for additional testing in the following week to ensure resolution.         | 10 minutes                |\n",
      "| Wrap-up and Future Actions      | Sarah Johnson reminded the team about a code review scheduled for the next day. John Smith concluded the meeting, praising the team's progress and encouraging momentum. | 5 minutes                 |\n",
      "| **Total**                       |                                                                                                                                                                   | **50 minutes**            |\n",
      "\n",
      "### Insights:\n",
      "- The meeting maintained a focused structure discussing project-specific updates, each providing insights on progress and ensuring all team members are aligned.\n",
      "- The development and QA updates seemed to garner the most attention, highlighting the critical nature of these phases in the project lifecycle.\n",
      "- The overall tone was positive, emphasizing encouragement and teamwork, reflecting an effective collaborative environment.\n"
     ]
    }
   ],
   "source": [
    "print(completion.choices[0].message.content)"
   ]
  },
  {
   "cell_type": "code",
   "execution_count": null,
   "metadata": {},
   "outputs": [],
   "source": []
  }
 ],
 "metadata": {
  "kernelspec": {
   "display_name": ".venv",
   "language": "python",
   "name": "python3"
  },
  "language_info": {
   "codemirror_mode": {
    "name": "ipython",
    "version": 3
   },
   "file_extension": ".py",
   "mimetype": "text/x-python",
   "name": "python",
   "nbconvert_exporter": "python",
   "pygments_lexer": "ipython3",
   "version": "3.12.4"
  }
 },
 "nbformat": 4,
 "nbformat_minor": 2
}
